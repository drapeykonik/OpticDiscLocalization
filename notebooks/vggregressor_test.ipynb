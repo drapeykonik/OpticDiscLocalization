{
 "cells": [
  {
   "cell_type": "code",
   "execution_count": 3,
   "metadata": {},
   "outputs": [],
   "source": [
    "from typing import Tuple, Any, Union\n",
    "\n",
    "from matplotlib import pyplot as plt\n",
    "from PIL import Image\n",
    "import numpy as np\n",
    "import torch"
   ]
  },
  {
   "attachments": {},
   "cell_type": "markdown",
   "metadata": {},
   "source": [
    "## Help Functions"
   ]
  },
  {
   "cell_type": "code",
   "execution_count": 4,
   "metadata": {},
   "outputs": [],
   "source": [
    "def show_image(sample: Tuple[Any, Any], transformed_sample: Tuple[Any, Any]):\n",
    "    fig, axes = plt.subplots(1, 2, figsize=(12, 6))\n",
    "    titles = [\"Original image\", \"Transformed image\"]\n",
    "    for i, s in enumerate((sample, transformed_sample)):\n",
    "        axes[i].imshow(s[0], cmap=\"gray\")\n",
    "        axes[i].set_title(titles[i])\n",
    "        axes[i].scatter(s[1][0], s[1][1], marker=\"+\", s=100, c=\"green\")"
   ]
  },
  {
   "cell_type": "code",
   "execution_count": 5,
   "metadata": {},
   "outputs": [],
   "source": [
    "def show_example(sample: Tuple[Image.Image, np.array],\n",
    "                 prediction: torch.Tensor):\n",
    "    image, location = sample\n",
    "    plt.imshow(image.numpy().transpose(1, 2, 0))\n",
    "    plt.scatter(location[0], location[1], marker=\"+\", s=100, color=\"green\", label=\"True\")\n",
    "    plt.scatter(prediction[0][0], prediction[0][1], marker=\"+\", s=100, color=\"red\", label=\"Predicted\")\n",
    "    plt.axis(False)\n",
    "    plt.legend()"
   ]
  },
  {
   "attachments": {},
   "cell_type": "markdown",
   "metadata": {},
   "source": [
    "## Pipeline"
   ]
  },
  {
   "cell_type": "code",
   "execution_count": 1,
   "metadata": {},
   "outputs": [],
   "source": [
    "import sys\n",
    "sys.path.append('..')"
   ]
  },
  {
   "cell_type": "code",
   "execution_count": 2,
   "metadata": {},
   "outputs": [],
   "source": [
    "from src.vggregressor.pipeline import Pipeline\n",
    "from src.config import Config"
   ]
  },
  {
   "cell_type": "code",
   "execution_count": 3,
   "metadata": {},
   "outputs": [],
   "source": [
    "config = Config.parse(\"../config_example.yaml\")"
   ]
  },
  {
   "cell_type": "code",
   "execution_count": 4,
   "metadata": {},
   "outputs": [
    {
     "data": {
      "text/plain": [
       "{'pipeline': {'device': 'cuda', 'epochs': 25},\n",
       " 'data': {'train': {'path': '../data/processed/localization/train',\n",
       "   'annotations': 'location.csv',\n",
       "   'batch_size': 8},\n",
       "  'valid': {'path': '../data/processed/localization/valid',\n",
       "   'annotations': 'location.csv',\n",
       "   'batch_size': 1},\n",
       "  'test': {'path': '../data/processed/localization/test',\n",
       "   'annotations': 'location.csv',\n",
       "   'batch_size': 1}},\n",
       " 'transforms': {'train': [{'transform': 'Crop',\n",
       "    'params': {'top': 288, 'left': 0, 'height': 2000, 'width': 3200}},\n",
       "   {'transform': 'Resize', 'params': {'output_size': 512}}],\n",
       "  'valid': [{'transform': 'Crop',\n",
       "    'params': {'top': 288, 'left': 0, 'height': 2000, 'width': 3200}},\n",
       "   {'transform': 'Resize', 'params': {'output_size': 512}}],\n",
       "  'test': [{'transform': 'Crop',\n",
       "    'params': {'top': 288, 'left': 0, 'height': 2000, 'width': 3200}},\n",
       "   {'transform': 'Resize', 'params': {'output_size': 512}}]},\n",
       " 'model': {'name': 'VGGRegressor', 'params': {'in_channels': 3}},\n",
       " 'loss': {'type': 'MSELoss', 'params': {'reduction': 'mean'}},\n",
       " 'optimizer': {'type': 'Adam', 'params': {'lr': 0.001, 'betas': [0.9, 0.999]}},\n",
       " 'lr_scheduler': {'type': 'ExponentialLR', 'params': {'gamma': 0.5}},\n",
       " 'logger': {'path': 'none'}}"
      ]
     },
     "execution_count": 4,
     "metadata": {},
     "output_type": "execute_result"
    }
   ],
   "source": [
    "config.dict()"
   ]
  },
  {
   "cell_type": "code",
   "execution_count": 5,
   "metadata": {},
   "outputs": [],
   "source": [
    "model = Pipeline._create_model(config.model)"
   ]
  },
  {
   "cell_type": "code",
   "execution_count": 6,
   "metadata": {},
   "outputs": [],
   "source": [
    "data_loaders = Pipeline._create_data_loaders(config.data, config.transforms)"
   ]
  },
  {
   "cell_type": "code",
   "execution_count": 7,
   "metadata": {},
   "outputs": [],
   "source": [
    "loss = Pipeline._create_loss(config.loss)"
   ]
  },
  {
   "cell_type": "code",
   "execution_count": 9,
   "metadata": {},
   "outputs": [],
   "source": [
    "optimizer = Pipeline._create_optimizer(config.optimizer, model)"
   ]
  },
  {
   "cell_type": "code",
   "execution_count": 11,
   "metadata": {},
   "outputs": [],
   "source": [
    "scheduler = Pipeline._create_scheduler(config.lr_scheduler, optimizer)"
   ]
  }
 ],
 "metadata": {
  "kernelspec": {
   "display_name": "myenv",
   "language": "python",
   "name": "python3"
  },
  "language_info": {
   "codemirror_mode": {
    "name": "ipython",
    "version": 3
   },
   "file_extension": ".py",
   "mimetype": "text/x-python",
   "name": "python",
   "nbconvert_exporter": "python",
   "pygments_lexer": "ipython3",
   "version": "3.9.13"
  },
  "orig_nbformat": 4
 },
 "nbformat": 4,
 "nbformat_minor": 2
}
