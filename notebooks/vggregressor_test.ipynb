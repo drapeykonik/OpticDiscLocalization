{
 "cells": [
  {
   "cell_type": "code",
   "execution_count": 1,
   "metadata": {},
   "outputs": [],
   "source": [
    "from typing import Tuple, Any, Union\n",
    "\n",
    "from matplotlib import pyplot as plt\n",
    "from PIL import Image\n",
    "import numpy as np\n",
    "import torch"
   ]
  },
  {
   "attachments": {},
   "cell_type": "markdown",
   "metadata": {},
   "source": [
    "## Help Functions"
   ]
  },
  {
   "cell_type": "code",
   "execution_count": 2,
   "metadata": {},
   "outputs": [],
   "source": [
    "def show_image(sample: Tuple[Any, Any], transformed_sample: Tuple[Any, Any]):\n",
    "    fig, axes = plt.subplots(1, 2, figsize=(12, 6))\n",
    "    titles = [\"Original image\", \"Transformed image\"]\n",
    "    for i, s in enumerate((sample, transformed_sample)):\n",
    "        axes[i].imshow(s[0], cmap=\"gray\")\n",
    "        axes[i].set_title(titles[i])\n",
    "        axes[i].scatter(s[1][0], s[1][1], marker=\"+\", s=100, c=\"green\")"
   ]
  },
  {
   "cell_type": "code",
   "execution_count": 3,
   "metadata": {},
   "outputs": [],
   "source": [
    "def show_example(sample: Tuple[Image.Image, np.array],\n",
    "                 prediction: torch.Tensor):\n",
    "    image, location = sample\n",
    "    plt.imshow(image.numpy().transpose(1, 2, 0))\n",
    "    plt.scatter(location[0], location[1], marker=\"+\", s=100, color=\"green\", label=\"True\")\n",
    "    plt.scatter(prediction[0][0], prediction[0][1], marker=\"+\", s=100, color=\"red\", label=\"Predicted\")\n",
    "    plt.axis(False)\n",
    "    plt.legend()"
   ]
  },
  {
   "attachments": {},
   "cell_type": "markdown",
   "metadata": {},
   "source": [
    "## Pipeline"
   ]
  },
  {
   "cell_type": "code",
   "execution_count": 4,
   "metadata": {},
   "outputs": [],
   "source": [
    "import sys\n",
    "sys.path.append('..')"
   ]
  },
  {
   "cell_type": "code",
   "execution_count": null,
   "metadata": {},
   "outputs": [],
   "source": [
    "from src.vggregressor.pipeline import Pipeline\n",
    "from src.config import Config"
   ]
  },
  {
   "cell_type": "code",
   "execution_count": 6,
   "metadata": {},
   "outputs": [],
   "source": [
    "config = Config.parse(\"../config_example.yaml\")"
   ]
  },
  {
   "cell_type": "code",
   "execution_count": 7,
   "metadata": {},
   "outputs": [
    {
     "data": {
      "text/plain": [
       "{'pipeline': {'device': 'cuda', 'epochs': 5},\n",
       " 'data': {'train': {'path': '../data/processed/localization/train',\n",
       "   'annotations': 'location.csv',\n",
       "   'batch_size': 4},\n",
       "  'valid': {'path': '../data/processed/localization/valid',\n",
       "   'annotations': 'location.csv',\n",
       "   'batch_size': 1},\n",
       "  'test': {'path': '../data/processed/localization/test',\n",
       "   'annotations': 'location.csv',\n",
       "   'batch_size': 1}},\n",
       " 'transforms': {'train': [{'transform': 'Crop',\n",
       "    'params': {'top': 288, 'left': 0, 'height': 2000, 'width': 3200}},\n",
       "   {'transform': 'Resize', 'params': {'output_size': 512}},\n",
       "   {'transform': 'ToTensor', 'params': None}],\n",
       "  'valid': [{'transform': 'Crop',\n",
       "    'params': {'top': 288, 'left': 0, 'height': 2000, 'width': 3200}},\n",
       "   {'transform': 'Resize', 'params': {'output_size': 512}},\n",
       "   {'transform': 'ToTensor', 'params': None}],\n",
       "  'test': [{'transform': 'Crop',\n",
       "    'params': {'top': 288, 'left': 0, 'height': 2000, 'width': 3200}},\n",
       "   {'transform': 'Resize', 'params': {'output_size': 512}},\n",
       "   {'transform': 'ToTensor', 'params': None}]},\n",
       " 'model': {'name': 'VGGRegressor', 'params': {'in_channels': 3}},\n",
       " 'loss': {'type': 'MSELoss', 'params': {'reduction': 'mean'}},\n",
       " 'optimizer': {'type': 'Adam', 'params': {'lr': 0.001, 'betas': [0.9, 0.999]}},\n",
       " 'lr_scheduler': {'type': 'ExponentialLR', 'params': {'gamma': 0.5}},\n",
       " 'logger': {'path': 'none'}}"
      ]
     },
     "execution_count": 7,
     "metadata": {},
     "output_type": "execute_result"
    }
   ],
   "source": [
    "config.dict()"
   ]
  },
  {
   "attachments": {},
   "cell_type": "markdown",
   "metadata": {},
   "source": [
    "## Pipeline Training"
   ]
  },
  {
   "cell_type": "code",
   "execution_count": 8,
   "metadata": {},
   "outputs": [],
   "source": [
    "pipeline = Pipeline(config)"
   ]
  },
  {
   "cell_type": "code",
   "execution_count": 9,
   "metadata": {},
   "outputs": [
    {
     "name": "stderr",
     "output_type": "stream",
     "text": [
      "100%|██████████| 83/83 [01:10<00:00,  1.17it/s]\n",
      "Epoch 2.  20%|██        | 1/5 [01:26<05:46, 86.75s/it]\n",
      "                                         Train loss: 15688.1701.\n",
      "100%|██████████| 83/83 [01:07<00:00,  1.22it/s]loss: 8963.6756:  20%|██        | 1/5 [01:26<05:46, 86.75s/it]\n",
      "Epoch 2.\n",
      "                                         Train loss: 15688.1701.\n",
      "Epoch 3.                                 Valid loss: 8963.6756:  40%|████      | 2/5 [02:46<04:08, 82.67s/it]\n",
      "                                         Train loss: 9682.1898.\n",
      "100%|██████████| 83/83 [01:07<00:00,  1.23it/s]loss: 11984.5123:  40%|████      | 2/5 [02:46<04:08, 82.67s/it]\n",
      "Epoch 3.\n",
      "                                         Train loss: 9682.1898.\n",
      "Epoch 4.                                 Valid loss: 11984.5123:  60%|██████    | 3/5 [04:06<02:42, 81.28s/it]\n",
      "                                         Train loss: 4139.3755.\n",
      "100%|██████████| 83/83 [01:06<00:00,  1.24it/s]loss: 3212.7095:  60%|██████    | 3/5 [04:06<02:42, 81.28s/it] \n",
      "Epoch 4.\n",
      "                                         Train loss: 4139.3755.\n",
      "Epoch 5.                                 Valid loss: 3212.7095:  80%|████████  | 4/5 [05:25<01:20, 80.65s/it]\n",
      "                                         Train loss: 3472.7499.\n",
      "100%|██████████| 83/83 [01:07<00:00,  1.23it/s]loss: 2992.2103:  80%|████████  | 4/5 [05:25<01:20, 80.65s/it]\n",
      "Epoch 5.\n",
      "                                         Train loss: 3472.7499.\n",
      "Epoch 5.                                 Valid loss: 2992.2103: 100%|██████████| 5/5 [06:46<00:00, 80.56s/it]\n",
      "                                         Train loss: 3472.7499.\n",
      "                                         Valid loss: 2992.2103: 100%|██████████| 5/5 [06:46<00:00, 81.25s/it]\n"
     ]
    }
   ],
   "source": [
    "train_losses, valid_losses = pipeline.fit()"
   ]
  },
  {
   "attachments": {},
   "cell_type": "markdown",
   "metadata": {},
   "source": [
    "## Transforms testing"
   ]
  },
  {
   "cell_type": "code",
   "execution_count": null,
   "metadata": {},
   "outputs": [],
   "source": [
    "test_transforms = "
   ]
  }
 ],
 "metadata": {
  "kernelspec": {
   "display_name": "myenv",
   "language": "python",
   "name": "python3"
  },
  "language_info": {
   "codemirror_mode": {
    "name": "ipython",
    "version": 3
   },
   "file_extension": ".py",
   "mimetype": "text/x-python",
   "name": "python",
   "nbconvert_exporter": "python",
   "pygments_lexer": "ipython3",
   "version": "3.9.13"
  },
  "orig_nbformat": 4
 },
 "nbformat": 4,
 "nbformat_minor": 2
}
